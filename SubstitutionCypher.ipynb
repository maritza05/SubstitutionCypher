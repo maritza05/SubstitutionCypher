{
 "cells": [
  {
   "cell_type": "code",
   "execution_count": 268,
   "metadata": {},
   "outputs": [],
   "source": [
    "import random\n",
    "\n",
    "class SubstitutionCypher:\n",
    "    \n",
    "    def __init__(self, key=None):\n",
    "        self.ALPHABET = 'abcdefghijklmnopqrstuvwxyz'\n",
    "        if key is None:\n",
    "            self.KEY = self._generate_random_key()\n",
    "        else:\n",
    "            self.KEY = key\n",
    "            \n",
    "    def encrypt(self, message):\n",
    "        result = ''\n",
    "        message = message.lower()\n",
    "        for c in message:\n",
    "            result += self._encrypt_char(c)\n",
    "        return result\n",
    "    \n",
    "    def decrypt(self, encrypted_message):\n",
    "        result = ''\n",
    "        for c in encrypted_message:\n",
    "            result += self._decrypt_char(c)\n",
    "        return result\n",
    "            \n",
    "    def _encrypt_char(self, char):\n",
    "        if char.isspace():           \n",
    "            return char\n",
    "        idx = self.ALPHABET.find(char)\n",
    "        return self.KEY[idx]\n",
    "        \n",
    "    def _decrypt_char(self, char):\n",
    "        if char.isspace():\n",
    "            return char\n",
    "        idx = self.KEY.find(char)\n",
    "        return self.ALPHABET[idx]\n",
    "    \n",
    "    def _generate_random_key(self):\n",
    "        key = ''\n",
    "        for i in range(26):\n",
    "            key += self._generate_unrepeated_random_character(key)\n",
    "        return key\n",
    "                \n",
    "    def _generate_unrepeated_random_character(self, key):\n",
    "        letter = self._generate_random_character()\n",
    "        while letter in key:\n",
    "            letter = self._generate_random_character()\n",
    "        return letter\n",
    "            \n",
    "    def _generate_random_character(self):\n",
    "        char_index = random.randint(0, 25)\n",
    "        letter = self.ALPHABET[char_index]\n",
    "        return letter\n",
    "        "
   ]
  },
  {
   "cell_type": "code",
   "execution_count": 265,
   "metadata": {},
   "outputs": [],
   "source": [
    "from math import log10\n",
    "\n",
    "class FitnessMeasure:\n",
    "    \n",
    "    def __init__(self, ngrams_file, sep=' '):\n",
    "        ngrams = self._get_ngrams_from_file(ngrams_file)\n",
    "        self.N = self._get_total_count_ngrams(ngrams)\n",
    "        self.ngrams = self._get_ngrams_probability(ngrams)\n",
    "        self.floor = log10(0.01/total)\n",
    "        \n",
    "    def score(self, text):\n",
    "        score = 0\n",
    "        text_ngrams = self._get_text_ngrams(text, 4)\n",
    "        for n in text_ngrams:\n",
    "            if n in self.ngrams.keys():\n",
    "                score += self.ngrams[n]\n",
    "            else:\n",
    "                score += floor\n",
    "        return score\n",
    "        \n",
    "            \n",
    "    def _get_ngrams_from_file(self, ngrams_file):\n",
    "        ngrams = {}\n",
    "        lines = self._read_ngrams_file(ngrams_file)\n",
    "        for line in lines:\n",
    "            key, count = line.split()\n",
    "            ngrams[key] = int(count)\n",
    "        return ngrams\n",
    "    \n",
    "    def _get_total_count_ngrams(self, ngrams):\n",
    "        return sum(ngrams.values())\n",
    "    \n",
    "    def _get_ngrams_probability(self, ngrams):\n",
    "        for key in ngrams.keys():\n",
    "            ngrams[key] = log10(float(ngrams[key]) / total)\n",
    "        return ngrams\n",
    "    \n",
    "    def _get_text_ngrams(self, text, n):\n",
    "        result = []\n",
    "        text = re.sub('[^A-Z]','',text.upper())\n",
    "        for i in range(len(text)-n+1):\n",
    "            result.append(text[i:i+n])\n",
    "        return result\n",
    "            \n",
    "    def _read_ngrams_file(self, ngrams_file):\n",
    "        with open(ngrams_file) as file:\n",
    "            lines = file.readlines()\n",
    "        return lines"
   ]
  },
  {
   "cell_type": "code",
   "execution_count": 299,
   "metadata": {},
   "outputs": [],
   "source": [
    "from collections import Counter, OrderedDict\n",
    "import random\n",
    "import operator\n",
    "\n",
    "class SubstitutionBreaker:\n",
    "    \n",
    "    def __init__(self):\n",
    "        self.LETTERS_BY_FREQ = 'etaoinshrdlcumwfgypbvkjxqz'\n",
    "        self.ALPHABET = 'abcdefghijklmnopqrstuvwxyz'\n",
    "        self.fm = FitnessMeasure('english_quadgrams.txt')\n",
    "        self.maxscore = -99e9\n",
    "        \n",
    "    def decrypt(self, text):\n",
    "        text = text.lower()\n",
    "        self.KEY = self._get_initial_guess_key(text)\n",
    "        \n",
    "        \n",
    "        return score\n",
    "    \n",
    "    def _get_score(self, text):\n",
    "        text = re.sub('[^A-Za-z\\s]','',text.lower())\n",
    "        maxscore = -99e9\n",
    "        i = 0\n",
    "        while 1:\n",
    "            i = i+1\n",
    "            parentkey = self._get_initial_guess_key(text)\n",
    "            deciphered = SubstitutionCypher(key=parentkey).decrypt(text)\n",
    "            parentscore = fm.score(deciphered)\n",
    "            count = 0\n",
    "            \n",
    "            while count < 1000:\n",
    "                child = self._swap_chars(parentkey)\n",
    "                deciphered = SubstitutionCypher(key=child).decrypt(text)\n",
    "                score = fm.score(deciphered)\n",
    "                if score > parentscore:\n",
    "                    parentscore = score\n",
    "                    parentkey = child[:]\n",
    "                    count = 0\n",
    "                count = count + 1\n",
    "            if parentscore > maxscore:\n",
    "                maxscore, maxkey = parentscore, parentkey[:]\n",
    "                print(f'\\nbest score so far: {maxscore}, on iteration {i}')\n",
    "                ss = SubstitutionCypher(key=maxkey)\n",
    "                print(f'best key: {maxkey}')\n",
    "                print(f'plaintext: {ss.decrypt(text)}')\n",
    "        \n",
    "            \n",
    "    \n",
    "    def _swap_chars(self, text):\n",
    "        idx1 = random.randint(0, len(text) - 1)\n",
    "        idx2 = random.randint(0, len(text) - 1)\n",
    "        if idx1 != idx2:\n",
    "            text_list = list(text)\n",
    "            text_list[idx2], text_list[idx1] = text_list[idx1], text_list[idx2]\n",
    "            return ''.join(text_list)\n",
    "        else:\n",
    "            return self._swap_chars(text)\n",
    "    \n",
    "        \n",
    "    def _get_initial_guess_key(self, message):\n",
    "        message = message.lower()\n",
    "        chars_freq = self._get_chars_by_frequency(message)\n",
    "        mapped_chars = self._map_frequency_letters(chars_freq)\n",
    "        mapped_chars = sorted(mapped_chars.items())\n",
    "        key = ''\n",
    "        for k, v in mapped_chars:\n",
    "            key += v\n",
    "        return key\n",
    "    \n",
    "    def _map_frequency_letters(self, chars):\n",
    "        correspondency_table = {}\n",
    "        for idx, c in enumerate(self.LETTERS_BY_FREQ):\n",
    "            if idx < len(chars):\n",
    "                correspondency_table[c] = chars[idx]\n",
    "            else:\n",
    "                correspondency_table[c] = self._get_random_unrepeated_char(list(correspondency_table.values()))\n",
    "        return correspondency_table\n",
    "    \n",
    "    def _get_random_unrepeated_char(self, chars):\n",
    "        char_index = random.randint(0, 25)\n",
    "        letter = self.ALPHABET[char_index]\n",
    "        if letter in chars:\n",
    "            return self._get_random_unrepeated_char(chars)\n",
    "        else:\n",
    "            return letter\n",
    "        \n",
    "    def _get_chars_by_frequency(self, message):\n",
    "        freq_table = Counter(message).most_common()\n",
    "        return [item[0] for item in freq_table]\n",
    "            \n",
    "        "
   ]
  },
  {
   "cell_type": "code",
   "execution_count": null,
   "metadata": {},
   "outputs": [],
   "source": []
  },
  {
   "cell_type": "code",
   "execution_count": 290,
   "metadata": {},
   "outputs": [
    {
     "name": "stdout",
     "output_type": "stream",
     "text": [
      "Decrypted\n",
      "oebc bc oei fyri zprji oiko oepo vys wbzz cii yd vysr zbui yn b epqi fpdv oebdjc oy oizz vys pdg vys diig oy lpv pooidobyd dyw\n",
      "------------------\n",
      "Decrypted\n",
      "this is the more large text that you will see on your life ok i have many things to tell you and you need to pay attention now\n",
      "False\n"
     ]
    },
    {
     "ename": "NameError",
     "evalue": "name 'ieneritseeahtdaoolntsecahtoe' is not defined",
     "output_type": "error",
     "traceback": [
      "\u001b[0;31m---------------------------------------------------------------------------\u001b[0m",
      "\u001b[0;31mNameError\u001b[0m                                 Traceback (most recent call last)",
      "\u001b[0;32m<ipython-input-290-e565d5f97347>\u001b[0m in \u001b[0;36m<module>\u001b[0;34m\u001b[0m\n\u001b[1;32m     11\u001b[0m \u001b[0mprint\u001b[0m\u001b[0;34m(\u001b[0m\u001b[0mdc2\u001b[0m\u001b[0;34m)\u001b[0m\u001b[0;34m\u001b[0m\u001b[0m\n\u001b[1;32m     12\u001b[0m \u001b[0mprint\u001b[0m\u001b[0;34m(\u001b[0m\u001b[0mdc1\u001b[0m \u001b[0;34m==\u001b[0m \u001b[0mdc2\u001b[0m\u001b[0;34m)\u001b[0m\u001b[0;34m\u001b[0m\u001b[0m\n\u001b[0;32m---> 13\u001b[0;31m \u001b[0mieneritseeahtdaoolntsecahtoe\u001b[0m\u001b[0;34m\u001b[0m\u001b[0m\n\u001b[0m\u001b[1;32m     14\u001b[0m \u001b[0mieneritseeahtdaoolntsecahtoe\u001b[0m\u001b[0;34m\u001b[0m\u001b[0m\n",
      "\u001b[0;31mNameError\u001b[0m: name 'ieneritseeahtdaoolntsecahtoe' is not defined"
     ]
    }
   ],
   "source": [
    "sc = SubstitutionCypher(key='pxmgiujebhnzfdyltrcosqwkv')\n",
    "dc1 = sc.encrypt(\"\"\"THIS IS THE MORE LARGE TEXT THAT YOU WILL SEE ON YOUR LIFE OK I HAVE MANY THINGS TO TELL YOU AND YOU NEED TO PAY ATTENTION NOW\"\"\".lower())\n",
    "\n",
    "print(\"Decrypted\")\n",
    "print(dc1)\n",
    "\n",
    "sc = SubstitutionCypher(key='pxmgiujebhnzfdyltrcosqwkv')\n",
    "dc2 = sc.decrypt(\"\"\"oebc bc oei fyri zprji oiko oepo vys wbzz cii yd vysr zbui yn b epqi fpdv oebdjc oy oizz vys pdg vys diig oy lpv pooidobyd dyw\"\"\".lower())\n",
    "print(\"------------------\")\n",
    "print(\"Decrypted\")\n",
    "print(dc2)\n",
    "print(dc1 == dc2)\n",
    "ieneritseeahtdaoolntsecahtoe\n",
    "ieneritseeahtdaoolntsecahtoe"
   ]
  },
  {
   "cell_type": "code",
   "execution_count": 300,
   "metadata": {},
   "outputs": [
    {
     "name": "stdout",
     "output_type": "stream",
     "text": [
      "\n",
      "best score so far: -3281.228270412353, on iteration 1\n",
      "best key: eiugnlcad hwrksomyvfjbqtz\n",
      "\n",
      "plaintext: there is required the most complete concentration the most perfect diligence so\n",
      "that the mind free from all distracting thoughts and with everything else put\n",
      "aside may devote itself entirely to the single task of carrying the whole\n",
      "understanding to a successful conclusion still if the task sometimes requires\n",
      "unusual concentration and expenditure of time this concentration should not go\n",
      "on uninterrupted the brain should not be racked overanxiously for excessive\n",
      "pains and prolonged mental effort bring on brainfag so that the mind is\n",
      "afterwards less fit for these things and accomplishes nothing  this has often\n",
      "been my experience at such times as i came upon particularly involved ciphers in\n",
      "the workingout of these for after spending the whole day in this task scarcely\n",
      "seven or eight hours seemed to me go have gone by i hardly thought it was more\n",
      "than one or two oclock so i was not aware of the approach of evening except\n",
      "through the shadows and the failing of light\n"
     ]
    },
    {
     "ename": "KeyboardInterrupt",
     "evalue": "",
     "output_type": "error",
     "traceback": [
      "\u001b[0;31m---------------------------------------------------------------------------\u001b[0m",
      "\u001b[0;31mKeyboardInterrupt\u001b[0m                         Traceback (most recent call last)",
      "\u001b[0;32m<ipython-input-300-24bc83856159>\u001b[0m in \u001b[0;36m<module>\u001b[0;34m\u001b[0m\n\u001b[1;32m     13\u001b[0m vnbnk sy ndcaf asjyv vnnrng fs rn cs aebn cskn iz), d aeygwz fasjcaf df qev rsyn\n\u001b[1;32m     14\u001b[0m \u001b[0mfaek\u001b[0m \u001b[0mskn\u001b[0m \u001b[0msy\u001b[0m \u001b[0mfqs\u001b[0m \u001b[0ms\u001b[0m\u001b[0;31m’\u001b[0m\u001b[0muwsuh\u001b[0m\u001b[0;34m,\u001b[0m \u001b[0mvs\u001b[0m \u001b[0md\u001b[0m \u001b[0mqev\u001b[0m \u001b[0mksf\u001b[0m \u001b[0meqeyn\u001b[0m \u001b[0msl\u001b[0m \u001b[0mfan\u001b[0m \u001b[0meooyseua\u001b[0m \u001b[0msl\u001b[0m \u001b[0mnbnkdkc\u001b[0m \u001b[0mntunof\u001b[0m\u001b[0;34m\u001b[0m\u001b[0m\n\u001b[0;32m---> 15\u001b[0;31m faysjca fan vaegsqv ekg fan ledwdkc sl wdcaf\"\"\")\n\u001b[0m",
      "\u001b[0;32m<ipython-input-299-44124b4a7091>\u001b[0m in \u001b[0;36m_get_score\u001b[0;34m(self, text)\u001b[0m\n\u001b[1;32m     31\u001b[0m             \u001b[0;32mwhile\u001b[0m \u001b[0mcount\u001b[0m \u001b[0;34m<\u001b[0m \u001b[0;36m1000\u001b[0m\u001b[0;34m:\u001b[0m\u001b[0;34m\u001b[0m\u001b[0m\n\u001b[1;32m     32\u001b[0m                 \u001b[0mchild\u001b[0m \u001b[0;34m=\u001b[0m \u001b[0mself\u001b[0m\u001b[0;34m.\u001b[0m\u001b[0m_swap_chars\u001b[0m\u001b[0;34m(\u001b[0m\u001b[0mparentkey\u001b[0m\u001b[0;34m)\u001b[0m\u001b[0;34m\u001b[0m\u001b[0m\n\u001b[0;32m---> 33\u001b[0;31m                 \u001b[0mdeciphered\u001b[0m \u001b[0;34m=\u001b[0m \u001b[0mSubstitutionCypher\u001b[0m\u001b[0;34m(\u001b[0m\u001b[0mkey\u001b[0m\u001b[0;34m=\u001b[0m\u001b[0mchild\u001b[0m\u001b[0;34m)\u001b[0m\u001b[0;34m.\u001b[0m\u001b[0mdecrypt\u001b[0m\u001b[0;34m(\u001b[0m\u001b[0mtext\u001b[0m\u001b[0;34m)\u001b[0m\u001b[0;34m\u001b[0m\u001b[0m\n\u001b[0m\u001b[1;32m     34\u001b[0m                 \u001b[0mscore\u001b[0m \u001b[0;34m=\u001b[0m \u001b[0mfm\u001b[0m\u001b[0;34m.\u001b[0m\u001b[0mscore\u001b[0m\u001b[0;34m(\u001b[0m\u001b[0mdeciphered\u001b[0m\u001b[0;34m)\u001b[0m\u001b[0;34m\u001b[0m\u001b[0m\n\u001b[1;32m     35\u001b[0m                 \u001b[0;32mif\u001b[0m \u001b[0mscore\u001b[0m \u001b[0;34m>\u001b[0m \u001b[0mparentscore\u001b[0m\u001b[0;34m:\u001b[0m\u001b[0;34m\u001b[0m\u001b[0m\n",
      "\u001b[0;32m<ipython-input-268-bb9764b61812>\u001b[0m in \u001b[0;36mdecrypt\u001b[0;34m(self, encrypted_message)\u001b[0m\n\u001b[1;32m     20\u001b[0m         \u001b[0mresult\u001b[0m \u001b[0;34m=\u001b[0m \u001b[0;34m''\u001b[0m\u001b[0;34m\u001b[0m\u001b[0m\n\u001b[1;32m     21\u001b[0m         \u001b[0;32mfor\u001b[0m \u001b[0mc\u001b[0m \u001b[0;32min\u001b[0m \u001b[0mencrypted_message\u001b[0m\u001b[0;34m:\u001b[0m\u001b[0;34m\u001b[0m\u001b[0m\n\u001b[0;32m---> 22\u001b[0;31m             \u001b[0mresult\u001b[0m \u001b[0;34m+=\u001b[0m \u001b[0mself\u001b[0m\u001b[0;34m.\u001b[0m\u001b[0m_decrypt_char\u001b[0m\u001b[0;34m(\u001b[0m\u001b[0mc\u001b[0m\u001b[0;34m)\u001b[0m\u001b[0;34m\u001b[0m\u001b[0m\n\u001b[0m\u001b[1;32m     23\u001b[0m         \u001b[0;32mreturn\u001b[0m \u001b[0mresult\u001b[0m\u001b[0;34m\u001b[0m\u001b[0m\n\u001b[1;32m     24\u001b[0m \u001b[0;34m\u001b[0m\u001b[0m\n",
      "\u001b[0;31mKeyboardInterrupt\u001b[0m: "
     ]
    }
   ],
   "source": [
    "sb = SubstitutionBreaker()\n",
    "#sb._get_random_unrepeated_char(['a', 'b', 'c', 'd', 'e', 'f', 'g', 'h', 'i', 'j', 'k', 'l', 'm', 'n', 'o', 'p', 'q', 'r', 's', 't', 'u', 'v', 'y', 'z', 'w', 'x'])\n",
    "sb._get_score(\"\"\"fanyn dv ynmjdyng fan rsvf usrownfn uskunkfyefdsk, fan rsvf onylnuf gdwdcnkun, vs\n",
    "faef fan rdkg, lynn lysr eww gdvfyeufdkc fasjcafv ekg qdfa nbnyzfadkc nwvn ojf\n",
    "evdgn rez gnbsfn dfvnwl nkfdynwz fs fan vdkcwn fevh sl ueyyzdkc fan qaswn\n",
    "jkgnyvfekgdkc fs e vjuunvvljw uskuwjvdsk. vfdww, dl fan fevh vsrnfdrnv ynmjdynv\n",
    "jkjvjew uskunkfyefdsk ekg ntonkgdfjyn sl fdrn fadv uskunkfyefdsk vasjwg ksf cs\n",
    "sk jkdkfnyyjofng; fan iyedk vasjwg ksf in yeuhng sbny-ektdsjvwz. lsy ntunvvdbn\n",
    "oedkv ekg oyswskcng rnkfew nllsyf iydkc sk iyedk-lec, vs faef fan rdkg dv\n",
    "elfnyqeygv wnvv ldf lsy fanvn fadkcv ekg euusrowdvanv ksfadkc. … fadv aev slfnk\n",
    "innk rz ntonydnkun ef vjua fdrnv ev d uern josk oeyfdujweywz dkbswbng udoanyv, dk\n",
    "fan qsyhdkc-sjf sl fanvn. lsy elfny vonkgdkc fan qaswn gez dk fadv fevh (vueyunwz\n",
    "vnbnk sy ndcaf asjyv vnnrng fs rn cs aebn cskn iz), d aeygwz fasjcaf df qev rsyn\n",
    "faek skn sy fqs s’uwsuh, vs d qev ksf eqeyn sl fan eooyseua sl nbnkdkc ntunof\n",
    "faysjca fan vaegsqv ekg fan ledwdkc sl wdcaf\"\"\")"
   ]
  },
  {
   "cell_type": "code",
   "execution_count": 5,
   "metadata": {},
   "outputs": [
    {
     "data": {
      "text/plain": [
       "'hi'"
      ]
     },
     "execution_count": 5,
     "metadata": {},
     "output_type": "execute_result"
    }
   ],
   "source": [
    "'HI'.lower()"
   ]
  },
  {
   "cell_type": "code",
   "execution_count": 42,
   "metadata": {},
   "outputs": [],
   "source": [
    "from functools import reduce\n",
    "product = reduce((lambda memo, val: memo * val), [1, 2, 3, 4])"
   ]
  },
  {
   "cell_type": "code",
   "execution_count": 43,
   "metadata": {},
   "outputs": [
    {
     "data": {
      "text/plain": [
       "24"
      ]
     },
     "execution_count": 43,
     "metadata": {},
     "output_type": "execute_result"
    }
   ],
   "source": [
    "product"
   ]
  },
  {
   "cell_type": "code",
   "execution_count": 109,
   "metadata": {},
   "outputs": [],
   "source": [
    "import re\n",
    "from math import log\n",
    "\n",
    "def _get_ngrams(text, n):\n",
    "    result = []\n",
    "    text = re.sub('[^A-Z]','',text.upper())\n",
    "    for i in range(len(text)-n+1):\n",
    "        result.append(text[i:i+n])\n",
    "    return result\n",
    "\n",
    "def _get_ngrams_frequency(text, n):\n",
    "    ngrams = _get_ngrams(text, n)\n",
    "    result = {}\n",
    "    for ngr in ngrams:\n",
    "        if ngr in result:\n",
    "            result[ngr] += 1\n",
    "        else:\n",
    "            result[ngr] = 1\n",
    "    return result\n",
    "\n",
    "def _get_fitness(text):\n",
    "    ngrams = _get_ngrams_frequency(text, 4)\n",
    "    print(len(ngrams))\n",
    "    result = 0\n",
    "    for key, count in ngrams.items():\n",
    "        p = count / len(ngrams)\n",
    "        print(f\"{count} / {len(ngrams)} = {p}\")\n",
    "        result += log(p)\n",
    "    return result\n",
    "    "
   ]
  },
  {
   "cell_type": "code",
   "execution_count": 110,
   "metadata": {},
   "outputs": [
    {
     "name": "stdout",
     "output_type": "stream",
     "text": [
      "31\n",
      "1 / 31 = 0.03225806451612903\n",
      "1 / 31 = 0.03225806451612903\n",
      "1 / 31 = 0.03225806451612903\n",
      "1 / 31 = 0.03225806451612903\n",
      "1 / 31 = 0.03225806451612903\n",
      "1 / 31 = 0.03225806451612903\n",
      "1 / 31 = 0.03225806451612903\n",
      "1 / 31 = 0.03225806451612903\n",
      "1 / 31 = 0.03225806451612903\n",
      "1 / 31 = 0.03225806451612903\n",
      "1 / 31 = 0.03225806451612903\n",
      "1 / 31 = 0.03225806451612903\n",
      "1 / 31 = 0.03225806451612903\n",
      "1 / 31 = 0.03225806451612903\n",
      "1 / 31 = 0.03225806451612903\n",
      "1 / 31 = 0.03225806451612903\n",
      "1 / 31 = 0.03225806451612903\n",
      "1 / 31 = 0.03225806451612903\n",
      "1 / 31 = 0.03225806451612903\n",
      "1 / 31 = 0.03225806451612903\n",
      "1 / 31 = 0.03225806451612903\n",
      "1 / 31 = 0.03225806451612903\n",
      "1 / 31 = 0.03225806451612903\n",
      "1 / 31 = 0.03225806451612903\n",
      "1 / 31 = 0.03225806451612903\n",
      "1 / 31 = 0.03225806451612903\n",
      "1 / 31 = 0.03225806451612903\n",
      "1 / 31 = 0.03225806451612903\n",
      "1 / 31 = 0.03225806451612903\n",
      "1 / 31 = 0.03225806451612903\n",
      "1 / 31 = 0.03225806451612903\n"
     ]
    },
    {
     "data": {
      "text/plain": [
       "-106.45360333903959"
      ]
     },
     "execution_count": 110,
     "metadata": {},
     "output_type": "execute_result"
    }
   ],
   "source": [
    "_get_fitness('ATTACK THE EAST WALL OF THE CASTLE AT DAWN')"
   ]
  },
  {
   "cell_type": "code",
   "execution_count": 162,
   "metadata": {},
   "outputs": [
    {
     "name": "stdout",
     "output_type": "stream",
     "text": [
      "['THES', 'HESI', 'ESIM', 'SIMP', 'IMPL', 'MPLE', 'PLES', 'LESU', 'ESUB', 'SUBS', 'UBST', 'BSTI', 'STIT', 'TITU', 'ITUT', 'TUTI', 'UTIO', 'TION', 'IONC', 'ONCI', 'NCIP', 'CIPH', 'IPHE', 'PHER', 'HERI', 'ERIS', 'RISA', 'ISAC', 'SACI', 'ACIP', 'CIPH', 'IPHE', 'PHER', 'HERT', 'ERTH', 'RTHA', 'THAT', 'HATH', 'ATHA', 'THAS', 'HASB', 'ASBE', 'SBEE', 'BEEN', 'EENI', 'ENIN', 'NINU', 'INUS', 'NUSE', 'USEF', 'SEFO', 'EFOR', 'FORM', 'ORMA', 'RMAN', 'MANY', 'ANYH', 'NYHU', 'YHUN', 'HUND', 'UNDR', 'NDRE', 'DRED', 'REDS', 'EDSO', 'DSOF', 'SOFY', 'OFYE', 'FYEA', 'YEAR', 'EARS', 'ARSI', 'RSIT', 'SITB', 'ITBA', 'TBAS', 'BASI', 'ASIC', 'SICA', 'ICAL', 'CALL', 'ALLY', 'LLYC', 'LYCO', 'YCON', 'CONS', 'ONSI', 'NSIS', 'SIST', 'ISTS', 'STSO', 'TSOF', 'SOFS', 'OFSU', 'FSUB', 'SUBS', 'UBST', 'BSTI', 'STIT', 'TITU', 'ITUT', 'TUTI', 'UTIN', 'TING', 'INGE', 'NGEV', 'GEVE', 'EVER', 'VERY', 'ERYP', 'RYPL', 'YPLA', 'PLAI', 'LAIN', 'AINT', 'INTE', 'NTEX', 'TEXT', 'EXTC', 'XTCH', 'TCHA', 'CHAR', 'HARA', 'ARAC', 'RACT', 'ACTE', 'CTER', 'TERF', 'ERFO', 'RFOR', 'FORA', 'ORAD', 'RADI', 'ADIF', 'DIFF', 'IFFE', 'FFER', 'FERE', 'EREN', 'RENT', 'ENTC', 'NTCI', 'TCIP', 'CIPH', 'IPHE', 'PHER', 'HERT', 'ERTE', 'RTEX', 'TEXT', 'EXTC', 'XTCH', 'TCHA', 'CHAR', 'HARA', 'ARAC', 'RACT', 'ACTE', 'CTER', 'TERI', 'ERIT', 'RITD', 'ITDI', 'TDIF', 'DIFF', 'IFFE', 'FFER', 'FERS', 'ERSF', 'RSFR', 'SFRO', 'FROM', 'ROMC', 'OMCA', 'MCAE', 'CAES', 'AESA', 'ESAR', 'SARC', 'ARCI', 'RCIP', 'CIPH', 'IPHE', 'PHER', 'HERI', 'ERIN', 'RINT', 'INTH', 'NTHA', 'THAT', 'HATT', 'ATTH', 'TTHE', 'THEC', 'HECI', 'ECIP', 'CIPH', 'IPHE', 'PHER', 'HERA', 'ERAL', 'RALP', 'ALPH', 'LPHA', 'PHAB', 'HABE', 'ABET', 'BETI', 'ETIS', 'TISN', 'ISNO', 'SNOT', 'NOTS', 'OTSI', 'TSIM', 'SIMP', 'IMPL', 'MPLY', 'PLYT', 'LYTH', 'YTHE', 'THEA', 'HEAL', 'EALP', 'ALPH', 'LPHA', 'PHAB', 'HABE', 'ABET', 'BETS', 'ETSH', 'TSHI', 'SHIF', 'HIFT', 'IFTE', 'FTED', 'TEDI', 'EDIT', 'DITI', 'ITIS', 'TISC', 'ISCO', 'SCOM', 'COMP', 'OMPL', 'MPLE', 'PLET', 'LETE', 'ETEL', 'TELY', 'ELYJ', 'LYJU', 'YJUM', 'JUMB', 'UMBL', 'MBLE', 'BLED']\n",
      "-1102.6566022766713\n"
     ]
    }
   ],
   "source": [
    "from math import log10\n",
    "\n",
    "class FitnessMeasure:\n",
    "    \n",
    "    def __init__(self, ngrams_file, sep=' '):\n",
    "        ngrams = self._get_ngrams_from_file(ngrams_file)\n",
    "        self.N = self._get_total_count_ngrams(ngrams)\n",
    "        self.ngrams = self._get_ngrams_probability(ngrams)\n",
    "        self.floor = log10(0.01/total)\n",
    "        \n",
    "    def score(self, text):\n",
    "        score = 0\n",
    "        text_ngrams = self._get_text_ngrams(text, 4)\n",
    "        for n in text_ngrams:\n",
    "            if n in self.ngrams.keys():\n",
    "                score += self.ngrams[n]\n",
    "            else:\n",
    "                score += floor\n",
    "        return score\n",
    "        \n",
    "            \n",
    "    def _get_ngrams_from_file(self, ngrams_file):\n",
    "        ngrams = {}\n",
    "        lines = self._read_ngrams_file(ngrams_file)\n",
    "        for line in lines:\n",
    "            key, count = line.split()\n",
    "            ngrams[key] = int(count)\n",
    "        return ngrams\n",
    "    \n",
    "    def _get_total_count_ngrams(self, ngrams):\n",
    "        return sum(ngrams.values())\n",
    "    \n",
    "    def _get_ngrams_probability(self, ngrams):\n",
    "        for key in ngrams.keys():\n",
    "            ngrams[key] = log10(float(ngrams[key]) / total)\n",
    "        return ngrams\n",
    "    \n",
    "    def _get_text_ngrams(self, text, n):\n",
    "        result = []\n",
    "        text = re.sub('[^A-Z]','',text.upper())\n",
    "        for i in range(len(text)-n+1):\n",
    "            result.append(text[i:i+n])\n",
    "        return result\n",
    "            \n",
    "    def _read_ngrams_file(self, ngrams_file):\n",
    "        with open(ngrams_file) as file:\n",
    "            lines = file.readlines()\n",
    "        return lines\n",
    "    \n",
    "        "
   ]
  },
  {
   "cell_type": "code",
   "execution_count": 168,
   "metadata": {},
   "outputs": [
    {
     "data": {
      "text/plain": [
       "-1102.6566022766713"
      ]
     },
     "execution_count": 168,
     "metadata": {},
     "output_type": "execute_result"
    }
   ],
   "source": [
    "fm = FitnessMeasure('english_quadgrams.txt')\n",
    "text = \"\"\"\n",
    "THESIMPLESUBSTITUTIONCIPHERISACIPHERTHATHASBEENINUSEFORMANYHUNDREDSOFYEARSITBASIC\n",
    "ALLYCONSISTSOFSUBSTITUTINGEVERYPLAINTEXTCHARACTERFORADIFFERENTCIPHERTEXTCHARACTER\n",
    "ITDIFFERSFROMCAESARCIPHERINTHATTHECIPHERALPHABETISNOTSIMPLYTHEALPHABETSHIFTEDITIS\n",
    "COMPLETELYJUMBLED\n",
    "\"\"\"\n",
    "fm.score(text)"
   ]
  },
  {
   "cell_type": "code",
   "execution_count": 123,
   "metadata": {},
   "outputs": [],
   "source": [
    "from math import log10\n",
    "\n",
    "class ngram_score(object):\n",
    "    def __init__(self,ngramfile,sep=' '):\n",
    "        ''' load a file containing ngrams and counts, calculate log probabilities '''\n",
    "        self.ngrams = {}\n",
    "        with open(ngramfile) as file:\n",
    "            lines = file.readlines()\n",
    "        for line in lines:\n",
    "            key,count = line.split(sep) \n",
    "            self.ngrams[key] = int(count)\n",
    "            self.L = len(key)\n",
    "            self.N = sum(self.ngrams.values())\n",
    "            #calculate log probabilities\n",
    "            for key in self.ngrams.keys():\n",
    "                self.ngrams[key] = log10(float(self.ngrams[key])/self.N)\n",
    "            self.floor = log10(0.01/self.N)\n",
    "\n",
    "    def score(self,text):\n",
    "        ''' compute the score of text '''\n",
    "        score = 0\n",
    "        ngrams = self.ngrams.__getitem__\n",
    "        for i in range(len(text)-self.L+1):\n",
    "            if text[i:i+self.L] in self.ngrams: score += ngrams(text[i:i+self.L])\n",
    "            else: score += self.floor          \n",
    "        return score"
   ]
  },
  {
   "cell_type": "code",
   "execution_count": 124,
   "metadata": {},
   "outputs": [
    {
     "ename": "ValueError",
     "evalue": "math domain error",
     "output_type": "error",
     "traceback": [
      "\u001b[0;31m---------------------------------------------------------------------------\u001b[0m",
      "\u001b[0;31mValueError\u001b[0m                                Traceback (most recent call last)",
      "\u001b[0;32m<ipython-input-124-b3f3985435ea>\u001b[0m in \u001b[0;36m<module>\u001b[0;34m\u001b[0m\n\u001b[0;32m----> 1\u001b[0;31m \u001b[0mngram_score\u001b[0m\u001b[0;34m(\u001b[0m\u001b[0;34m'english_quadgrams.txt'\u001b[0m\u001b[0;34m)\u001b[0m\u001b[0;34m.\u001b[0m\u001b[0mscore\u001b[0m\u001b[0;34m(\u001b[0m\u001b[0;34m'ATTACK THE EAST WALL OF THE CASTLE AT DAWN'\u001b[0m\u001b[0;34m)\u001b[0m\u001b[0;34m\u001b[0m\u001b[0m\n\u001b[0m",
      "\u001b[0;32m<ipython-input-123-b988df56995b>\u001b[0m in \u001b[0;36m__init__\u001b[0;34m(self, ngramfile, sep)\u001b[0m\n\u001b[1;32m     14\u001b[0m             \u001b[0;31m#calculate log probabilities\u001b[0m\u001b[0;34m\u001b[0m\u001b[0;34m\u001b[0m\u001b[0m\n\u001b[1;32m     15\u001b[0m             \u001b[0;32mfor\u001b[0m \u001b[0mkey\u001b[0m \u001b[0;32min\u001b[0m \u001b[0mself\u001b[0m\u001b[0;34m.\u001b[0m\u001b[0mngrams\u001b[0m\u001b[0;34m.\u001b[0m\u001b[0mkeys\u001b[0m\u001b[0;34m(\u001b[0m\u001b[0;34m)\u001b[0m\u001b[0;34m:\u001b[0m\u001b[0;34m\u001b[0m\u001b[0m\n\u001b[0;32m---> 16\u001b[0;31m                 \u001b[0mself\u001b[0m\u001b[0;34m.\u001b[0m\u001b[0mngrams\u001b[0m\u001b[0;34m[\u001b[0m\u001b[0mkey\u001b[0m\u001b[0;34m]\u001b[0m \u001b[0;34m=\u001b[0m \u001b[0mlog10\u001b[0m\u001b[0;34m(\u001b[0m\u001b[0mfloat\u001b[0m\u001b[0;34m(\u001b[0m\u001b[0mself\u001b[0m\u001b[0;34m.\u001b[0m\u001b[0mngrams\u001b[0m\u001b[0;34m[\u001b[0m\u001b[0mkey\u001b[0m\u001b[0;34m]\u001b[0m\u001b[0;34m)\u001b[0m\u001b[0;34m/\u001b[0m\u001b[0mself\u001b[0m\u001b[0;34m.\u001b[0m\u001b[0mN\u001b[0m\u001b[0;34m)\u001b[0m\u001b[0;34m\u001b[0m\u001b[0m\n\u001b[0m\u001b[1;32m     17\u001b[0m             \u001b[0mself\u001b[0m\u001b[0;34m.\u001b[0m\u001b[0mfloor\u001b[0m \u001b[0;34m=\u001b[0m \u001b[0mlog10\u001b[0m\u001b[0;34m(\u001b[0m\u001b[0;36m0.01\u001b[0m\u001b[0;34m/\u001b[0m\u001b[0mself\u001b[0m\u001b[0;34m.\u001b[0m\u001b[0mN\u001b[0m\u001b[0;34m)\u001b[0m\u001b[0;34m\u001b[0m\u001b[0m\n\u001b[1;32m     18\u001b[0m \u001b[0;34m\u001b[0m\u001b[0m\n",
      "\u001b[0;31mValueError\u001b[0m: math domain error"
     ]
    }
   ],
   "source": [
    "ngram_score('english_quadgrams.txt').score('ATTACK THE EAST WALL OF THE CASTLE AT DAWN')"
   ]
  },
  {
   "cell_type": "code",
   "execution_count": 142,
   "metadata": {},
   "outputs": [
    {
     "data": {
      "text/plain": [
       "3.5210356475482247"
      ]
     },
     "execution_count": 142,
     "metadata": {},
     "output_type": "execute_result"
    }
   ],
   "source": [
    "log(13168375/389373)"
   ]
  },
  {
   "cell_type": "code",
   "execution_count": 227,
   "metadata": {},
   "outputs": [
    {
     "name": "stdout",
     "output_type": "stream",
     "text": [
      "bmuiwrntxveaclfgdkosqhzyjp\n",
      "012345678901234567890123456\n",
      "idx1: 14\n",
      "idx2: 2\n",
      "bmfiwrntxveaclugdkosqhzyjp\n"
     ]
    }
   ],
   "source": [
    "key = 'bmuiwrntxveaclfgdkosqhzyjp'\n",
    "import random\n",
    "\n",
    "idx1 = random.randint(0, 25)\n",
    "idx2 = random.randint(0, 25)\n",
    "print(key)\n",
    "print('012345678901234567890123456')\n",
    "key_list = list(key)\n",
    "print(f'idx1: {idx1}')\n",
    "print(f'idx2: {idx2}')\n",
    "key_list[idx2], key_list[idx1] = key_list[idx1], key_list[idx2]\n",
    "print(''.join(key_list))"
   ]
  },
  {
   "cell_type": "code",
   "execution_count": 235,
   "metadata": {},
   "outputs": [],
   "source": [
    "def _swap_chars(text):\n",
    "    idx1 = random.randint(0, len(text) - 1)\n",
    "    idx2 = random.randint(0, len(text) - 1)\n",
    "    if idx1 != idx2:\n",
    "        text_list = list(text)\n",
    "        text_list[idx2], text_list[idx1] = text_list[idx1], text_list[idx2]\n",
    "        return ''.join(text_list)\n",
    "    else:\n",
    "        return _swap_chars(text)"
   ]
  },
  {
   "cell_type": "code",
   "execution_count": 243,
   "metadata": {},
   "outputs": [
    {
     "name": "stdout",
     "output_type": "stream",
     "text": [
      "13\n",
      "5\n",
      "bmuiwrntxveaclfgdkosqhzyjp\n",
      "012345678901234567890123456\n"
     ]
    },
    {
     "data": {
      "text/plain": [
       "'bmuiwlntxveacrfgdkosqhzyjp'"
      ]
     },
     "execution_count": 243,
     "metadata": {},
     "output_type": "execute_result"
    }
   ],
   "source": [
    "_swap_chars(key)"
   ]
  },
  {
   "cell_type": "code",
   "execution_count": null,
   "metadata": {},
   "outputs": [],
   "source": []
  }
 ],
 "metadata": {
  "kernelspec": {
   "display_name": "Python 3",
   "language": "python",
   "name": "python3"
  },
  "language_info": {
   "codemirror_mode": {
    "name": "ipython",
    "version": 3
   },
   "file_extension": ".py",
   "mimetype": "text/x-python",
   "name": "python",
   "nbconvert_exporter": "python",
   "pygments_lexer": "ipython3",
   "version": "3.6.5"
  }
 },
 "nbformat": 4,
 "nbformat_minor": 2
}
